{
 "cells": [
  {
   "cell_type": "markdown",
   "metadata": {},
   "source": [
    "# Paired Sample T-test"
   ]
  },
  {
   "cell_type": "markdown",
   "metadata": {},
   "source": [
    "Suppose you are the couch of a basketball team and you're preparing your team for a tournament next month. One of the training objective is that you want to maximize the vertical jump of the players, so you measure their maximum vertical jump before and after the training program. How can you ensure that your team did make a progress? \n",
    "\n",
    "The above situation can perfectly be answered by using paired samples t-test. A paired sample t-test is a hypothesis testing conducted to determine whether the mean of the same sample group has a significant difference of not. Paired sample t-test is another form of t-test which aims to test **two means** from those from the same sample group. The purpose of this test is to determine whether there is a statistically significant difference in the mean between the paired objects. \n",
    "\n",
    "In this Notebook I will describe how to do the paired sample t-test using Scipy library in Python."
   ]
  },
  {
   "cell_type": "markdown",
   "metadata": {},
   "source": [
    "First let's import the library"
   ]
  },
  {
   "cell_type": "code",
   "execution_count": 19,
   "metadata": {},
   "outputs": [],
   "source": [
    "import numpy as np\n",
    "import matplotlib.pyplot as plt\n",
    "from scipy.stats import ttest_rel"
   ]
  },
  {
   "cell_type": "markdown",
   "metadata": {},
   "source": [
    "As described above, assume we have measured the maximum vertical jump of each player before and after the training program. The data is randomly sampled from all the players and is described as per below."
   ]
  },
  {
   "cell_type": "code",
   "execution_count": 6,
   "metadata": {},
   "outputs": [],
   "source": [
    "before = np.array([22,20,19,24,25,25,28,22,30,27,24,18,16,19,19,28,24,25,25,23])\n",
    "after  = np.array([24,22,19,22,28,26,28,24,30,29,25,20,17,18,18,28,26,27,27,24])"
   ]
  },
  {
   "cell_type": "markdown",
   "metadata": {},
   "source": [
    "Plot the histogram of this two datasets."
   ]
  },
  {
   "cell_type": "code",
   "execution_count": 3,
   "metadata": {},
   "outputs": [
    {
     "data": {
      "image/png": "[encoded data removed]",
      "text/plain": [
       "<Figure size 432x288 with 1 Axes>"
      ]
     },
     "metadata": {
      "needs_background": "light"
     },
     "output_type": "display_data"
    }
   ],
   "source": [
    "plt.hist(before, density = True, alpha = 0.5, label = 'Before')\n",
    "plt.hist(after, density = True, alpha = 0.5, label = 'After')\n",
    "plt.legend()\n",
    "plt.show()"
   ]
  },
  {
   "cell_type": "markdown",
   "metadata": {},
   "source": [
    "From the histogram we see that the population of 'after' set is slightly shifted to the right compared with the 'before' set. To ensure, let's check the mean of each dataset."
   ]
  },
  {
   "cell_type": "code",
   "execution_count": 9,
   "metadata": {},
   "outputs": [
    {
     "name": "stdout",
     "output_type": "stream",
     "text": [
      "before_mean = 23.15, after_mean = 24.1\n"
     ]
    }
   ],
   "source": [
    "before_mean = before.mean()\n",
    "after_mean = after.mean()\n",
    "print(f\"before_mean = {before_mean}, after_mean = {after_mean}\")"
   ]
  },
  {
   "cell_type": "markdown",
   "metadata": {},
   "source": [
    "From the above we did notice the difference between the mean of the datasets. But we don't know if the difference is significant to tell that your team is making a progress. Hence we do the following hypothesis test procedure:\n",
    "\n",
    "1. **Determine the hypothesis formula as per below**"
   ]
  },
  {
   "cell_type": "code",
   "execution_count": 16,
   "metadata": {},
   "outputs": [],
   "source": [
    "H_O = \"The mean of the Before sample is equal to the mean of After sample\" # null hypothesis\n",
    "H_1 = \"The mean of the Before sample is different to the mean of After sample\" # alternate hypothesis"
   ]
  },
  {
   "cell_type": "markdown",
   "metadata": {},
   "source": [
    "2. **Define the significance level alpha**"
   ]
  },
  {
   "cell_type": "code",
   "execution_count": 17,
   "metadata": {},
   "outputs": [],
   "source": [
    "alpha = 0.05"
   ]
  },
  {
   "cell_type": "markdown",
   "metadata": {},
   "source": [
    "3. **Define the rejection criteria as per below**\n",
    "\n",
    "    \"Reject H_0 if p_value < alpha\""
   ]
  },
  {
   "cell_type": "markdown",
   "metadata": {},
   "source": [
    "4. **Perform test statistics**"
   ]
  },
  {
   "cell_type": "code",
   "execution_count": 18,
   "metadata": {},
   "outputs": [
    {
     "name": "stdout",
     "output_type": "stream",
     "text": [
      "t_statistic = -3.22617331116718, p_value = 0.004445370704412229\n"
     ]
    }
   ],
   "source": [
    "t_statistic, p_value = ttest_rel(before, after)\n",
    "print(f\"t_statistic = {t_statistic}, p_value = {p_value}\" )"
   ]
  },
  {
   "cell_type": "markdown",
   "metadata": {},
   "source": [
    "5. **Draw conclusion**\n",
    "\n",
    "    Since the p_value resulting from the test is less than 0.05, we reject our null hypothesis H_0. Which basically means that we have sufficient evidence to say that the training gave a significant impact to boost the vertical jump of players."
   ]
  },
  {
   "cell_type": "markdown",
   "metadata": {},
   "source": [
    "## Conclusion"
   ]
  },
  {
   "cell_type": "markdown",
   "metadata": {},
   "source": [
    "Paired samples t-test is a hypothesis test conducted to determine whether the mean value of the same sample group has a significant difference or not.\n",
    "\n",
    "The criteria required to be checked before using this test:\n",
    "\n",
    "- The sample is random\n",
    "- The two sample groups are from the same group and related\n",
    "- The data used are normally distributed or at least close to the normal distribution\n",
    "- There are no outliers or extreme value\n",
    "\n",
    "The paired samples t-test is an extension of the t-sampling distribution test. You can use it in the case of a small sample, assuming the data is normally distributed."
   ]
  },
  {
   "cell_type": "code",
   "execution_count": null,
   "metadata": {},
   "outputs": [],
   "source": []
  }
 ],
 "metadata": {
  "kernelspec": {
   "display_name": "Python 3",
   "language": "python",
   "name": "python3"
  },
  "language_info": {
   "codemirror_mode": {
    "name": "ipython",
    "version": 3
   },
   "file_extension": ".py",
   "mimetype": "text/x-python",
   "name": "python",
   "nbconvert_exporter": "python",
   "pygments_lexer": "ipython3",
   "version": "3.8.3"
  }
 },
 "nbformat": 4,
 "nbformat_minor": 4
}
